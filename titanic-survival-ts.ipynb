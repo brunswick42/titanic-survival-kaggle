{
 "cells": [
  {
   "cell_type": "markdown",
   "id": "4ad684db",
   "metadata": {
    "papermill": {
     "duration": 0.003654,
     "end_time": "2025-03-31T02:55:54.912708",
     "exception": false,
     "start_time": "2025-03-31T02:55:54.909054",
     "status": "completed"
    },
    "tags": []
   },
   "source": [
    "# Titanic - Predicting Survival"
   ]
  },
  {
   "cell_type": "markdown",
   "id": "8b6c25b1",
   "metadata": {
    "papermill": {
     "duration": 0.00225,
     "end_time": "2025-03-31T02:55:54.917648",
     "exception": false,
     "start_time": "2025-03-31T02:55:54.915398",
     "status": "completed"
    },
    "tags": []
   },
   "source": [
    "## Introduction\n",
    "The sinking of the Titanic on April, 15, 1912 is one of the most notorious shipwrecks in history. Of 2224 passengers and crew, 1502 died that night. Our goal in this project is to predict whether a passenger survived based on a number of factors in the passenger data set. "
   ]
  },
  {
   "cell_type": "markdown",
   "id": "5c037ff5",
   "metadata": {
    "papermill": {
     "duration": 0.002139,
     "end_time": "2025-03-31T02:55:54.922183",
     "exception": false,
     "start_time": "2025-03-31T02:55:54.920044",
     "status": "completed"
    },
    "tags": []
   },
   "source": [
    "## Import libraries and data"
   ]
  },
  {
   "cell_type": "code",
   "execution_count": 1,
   "id": "92834b89",
   "metadata": {
    "_cell_guid": "b1076dfc-b9ad-4769-8c92-a6c4dae69d19",
    "_uuid": "8f2839f25d086af736a60e9eeb907d3b93b6e0e5",
    "execution": {
     "iopub.execute_input": "2025-03-31T02:55:54.928209Z",
     "iopub.status.busy": "2025-03-31T02:55:54.927886Z",
     "iopub.status.idle": "2025-03-31T02:55:57.008868Z",
     "shell.execute_reply": "2025-03-31T02:55:57.007724Z"
    },
    "papermill": {
     "duration": 2.086178,
     "end_time": "2025-03-31T02:55:57.010670",
     "exception": false,
     "start_time": "2025-03-31T02:55:54.924492",
     "status": "completed"
    },
    "tags": []
   },
   "outputs": [
    {
     "name": "stdout",
     "output_type": "stream",
     "text": [
      "/kaggle/input/titanic/train.csv\n",
      "/kaggle/input/titanic/test.csv\n",
      "/kaggle/input/titanic/gender_submission.csv\n"
     ]
    }
   ],
   "source": [
    "# This Python 3 environment comes with many helpful analytics libraries installed\n",
    "# It is defined by the kaggle/python Docker image: https://github.com/kaggle/docker-python\n",
    "# For example, here's several helpful packages to load\n",
    "\n",
    "import numpy as np # linear algebra\n",
    "import pandas as pd # data processing, CSV file I/O (e.g. pd.read_csv)\n",
    "import matplotlib.pyplot as plt # visualizing data\n",
    "from sklearn.linear_model import LogisticRegression\n",
    "\n",
    "# Input data files are available in the read-only \"../input/\" directory\n",
    "# For example, running this (by clicking run or pressing Shift+Enter) will list all files under the input directory\n",
    "\n",
    "import os\n",
    "for dirname, _, filenames in os.walk('/kaggle/input'):\n",
    "    for filename in filenames:\n",
    "        print(os.path.join(dirname, filename))\n",
    "\n",
    "# You can write up to 20GB to the current directory (/kaggle/working/) that gets preserved as output when you create a version using \"Save & Run All\" \n",
    "# You can also write temporary files to /kaggle/temp/, but they won't be saved outside of the current session"
   ]
  },
  {
   "cell_type": "code",
   "execution_count": 2,
   "id": "c891bd2f",
   "metadata": {
    "execution": {
     "iopub.execute_input": "2025-03-31T02:55:57.017744Z",
     "iopub.status.busy": "2025-03-31T02:55:57.017252Z",
     "iopub.status.idle": "2025-03-31T02:55:57.054286Z",
     "shell.execute_reply": "2025-03-31T02:55:57.053056Z"
    },
    "papermill": {
     "duration": 0.041637,
     "end_time": "2025-03-31T02:55:57.055541",
     "exception": false,
     "start_time": "2025-03-31T02:55:57.013904",
     "status": "completed"
    },
    "tags": []
   },
   "outputs": [
    {
     "data": {
      "text/html": [
       "<div>\n",
       "<style scoped>\n",
       "    .dataframe tbody tr th:only-of-type {\n",
       "        vertical-align: middle;\n",
       "    }\n",
       "\n",
       "    .dataframe tbody tr th {\n",
       "        vertical-align: top;\n",
       "    }\n",
       "\n",
       "    .dataframe thead th {\n",
       "        text-align: right;\n",
       "    }\n",
       "</style>\n",
       "<table border=\"1\" class=\"dataframe\">\n",
       "  <thead>\n",
       "    <tr style=\"text-align: right;\">\n",
       "      <th></th>\n",
       "      <th>PassengerId</th>\n",
       "      <th>Survived</th>\n",
       "      <th>Pclass</th>\n",
       "      <th>Name</th>\n",
       "      <th>Sex</th>\n",
       "      <th>Age</th>\n",
       "      <th>SibSp</th>\n",
       "      <th>Parch</th>\n",
       "      <th>Ticket</th>\n",
       "      <th>Fare</th>\n",
       "      <th>Cabin</th>\n",
       "      <th>Embarked</th>\n",
       "    </tr>\n",
       "  </thead>\n",
       "  <tbody>\n",
       "    <tr>\n",
       "      <th>0</th>\n",
       "      <td>1</td>\n",
       "      <td>0</td>\n",
       "      <td>3</td>\n",
       "      <td>Braund, Mr. Owen Harris</td>\n",
       "      <td>male</td>\n",
       "      <td>22.0</td>\n",
       "      <td>1</td>\n",
       "      <td>0</td>\n",
       "      <td>A/5 21171</td>\n",
       "      <td>7.2500</td>\n",
       "      <td>NaN</td>\n",
       "      <td>S</td>\n",
       "    </tr>\n",
       "    <tr>\n",
       "      <th>1</th>\n",
       "      <td>2</td>\n",
       "      <td>1</td>\n",
       "      <td>1</td>\n",
       "      <td>Cumings, Mrs. John Bradley (Florence Briggs Th...</td>\n",
       "      <td>female</td>\n",
       "      <td>38.0</td>\n",
       "      <td>1</td>\n",
       "      <td>0</td>\n",
       "      <td>PC 17599</td>\n",
       "      <td>71.2833</td>\n",
       "      <td>C85</td>\n",
       "      <td>C</td>\n",
       "    </tr>\n",
       "    <tr>\n",
       "      <th>2</th>\n",
       "      <td>3</td>\n",
       "      <td>1</td>\n",
       "      <td>3</td>\n",
       "      <td>Heikkinen, Miss. Laina</td>\n",
       "      <td>female</td>\n",
       "      <td>26.0</td>\n",
       "      <td>0</td>\n",
       "      <td>0</td>\n",
       "      <td>STON/O2. 3101282</td>\n",
       "      <td>7.9250</td>\n",
       "      <td>NaN</td>\n",
       "      <td>S</td>\n",
       "    </tr>\n",
       "    <tr>\n",
       "      <th>3</th>\n",
       "      <td>4</td>\n",
       "      <td>1</td>\n",
       "      <td>1</td>\n",
       "      <td>Futrelle, Mrs. Jacques Heath (Lily May Peel)</td>\n",
       "      <td>female</td>\n",
       "      <td>35.0</td>\n",
       "      <td>1</td>\n",
       "      <td>0</td>\n",
       "      <td>113803</td>\n",
       "      <td>53.1000</td>\n",
       "      <td>C123</td>\n",
       "      <td>S</td>\n",
       "    </tr>\n",
       "    <tr>\n",
       "      <th>4</th>\n",
       "      <td>5</td>\n",
       "      <td>0</td>\n",
       "      <td>3</td>\n",
       "      <td>Allen, Mr. William Henry</td>\n",
       "      <td>male</td>\n",
       "      <td>35.0</td>\n",
       "      <td>0</td>\n",
       "      <td>0</td>\n",
       "      <td>373450</td>\n",
       "      <td>8.0500</td>\n",
       "      <td>NaN</td>\n",
       "      <td>S</td>\n",
       "    </tr>\n",
       "  </tbody>\n",
       "</table>\n",
       "</div>"
      ],
      "text/plain": [
       "   PassengerId  Survived  Pclass  \\\n",
       "0            1         0       3   \n",
       "1            2         1       1   \n",
       "2            3         1       3   \n",
       "3            4         1       1   \n",
       "4            5         0       3   \n",
       "\n",
       "                                                Name     Sex   Age  SibSp  \\\n",
       "0                            Braund, Mr. Owen Harris    male  22.0      1   \n",
       "1  Cumings, Mrs. John Bradley (Florence Briggs Th...  female  38.0      1   \n",
       "2                             Heikkinen, Miss. Laina  female  26.0      0   \n",
       "3       Futrelle, Mrs. Jacques Heath (Lily May Peel)  female  35.0      1   \n",
       "4                           Allen, Mr. William Henry    male  35.0      0   \n",
       "\n",
       "   Parch            Ticket     Fare Cabin Embarked  \n",
       "0      0         A/5 21171   7.2500   NaN        S  \n",
       "1      0          PC 17599  71.2833   C85        C  \n",
       "2      0  STON/O2. 3101282   7.9250   NaN        S  \n",
       "3      0            113803  53.1000  C123        S  \n",
       "4      0            373450   8.0500   NaN        S  "
      ]
     },
     "execution_count": 2,
     "metadata": {},
     "output_type": "execute_result"
    }
   ],
   "source": [
    "train_data = pd.read_csv(\"/kaggle/input/titanic/train.csv\")\n",
    "train_data.head()"
   ]
  },
  {
   "cell_type": "code",
   "execution_count": 3,
   "id": "09534a5e",
   "metadata": {
    "execution": {
     "iopub.execute_input": "2025-03-31T02:55:57.062271Z",
     "iopub.status.busy": "2025-03-31T02:55:57.061995Z",
     "iopub.status.idle": "2025-03-31T02:55:57.077184Z",
     "shell.execute_reply": "2025-03-31T02:55:57.076378Z"
    },
    "papermill": {
     "duration": 0.019868,
     "end_time": "2025-03-31T02:55:57.078500",
     "exception": false,
     "start_time": "2025-03-31T02:55:57.058632",
     "status": "completed"
    },
    "tags": []
   },
   "outputs": [
    {
     "data": {
      "text/html": [
       "<div>\n",
       "<style scoped>\n",
       "    .dataframe tbody tr th:only-of-type {\n",
       "        vertical-align: middle;\n",
       "    }\n",
       "\n",
       "    .dataframe tbody tr th {\n",
       "        vertical-align: top;\n",
       "    }\n",
       "\n",
       "    .dataframe thead th {\n",
       "        text-align: right;\n",
       "    }\n",
       "</style>\n",
       "<table border=\"1\" class=\"dataframe\">\n",
       "  <thead>\n",
       "    <tr style=\"text-align: right;\">\n",
       "      <th></th>\n",
       "      <th>PassengerId</th>\n",
       "      <th>Pclass</th>\n",
       "      <th>Name</th>\n",
       "      <th>Sex</th>\n",
       "      <th>Age</th>\n",
       "      <th>SibSp</th>\n",
       "      <th>Parch</th>\n",
       "      <th>Ticket</th>\n",
       "      <th>Fare</th>\n",
       "      <th>Cabin</th>\n",
       "      <th>Embarked</th>\n",
       "    </tr>\n",
       "  </thead>\n",
       "  <tbody>\n",
       "    <tr>\n",
       "      <th>0</th>\n",
       "      <td>892</td>\n",
       "      <td>3</td>\n",
       "      <td>Kelly, Mr. James</td>\n",
       "      <td>male</td>\n",
       "      <td>34.5</td>\n",
       "      <td>0</td>\n",
       "      <td>0</td>\n",
       "      <td>330911</td>\n",
       "      <td>7.8292</td>\n",
       "      <td>NaN</td>\n",
       "      <td>Q</td>\n",
       "    </tr>\n",
       "    <tr>\n",
       "      <th>1</th>\n",
       "      <td>893</td>\n",
       "      <td>3</td>\n",
       "      <td>Wilkes, Mrs. James (Ellen Needs)</td>\n",
       "      <td>female</td>\n",
       "      <td>47.0</td>\n",
       "      <td>1</td>\n",
       "      <td>0</td>\n",
       "      <td>363272</td>\n",
       "      <td>7.0000</td>\n",
       "      <td>NaN</td>\n",
       "      <td>S</td>\n",
       "    </tr>\n",
       "    <tr>\n",
       "      <th>2</th>\n",
       "      <td>894</td>\n",
       "      <td>2</td>\n",
       "      <td>Myles, Mr. Thomas Francis</td>\n",
       "      <td>male</td>\n",
       "      <td>62.0</td>\n",
       "      <td>0</td>\n",
       "      <td>0</td>\n",
       "      <td>240276</td>\n",
       "      <td>9.6875</td>\n",
       "      <td>NaN</td>\n",
       "      <td>Q</td>\n",
       "    </tr>\n",
       "    <tr>\n",
       "      <th>3</th>\n",
       "      <td>895</td>\n",
       "      <td>3</td>\n",
       "      <td>Wirz, Mr. Albert</td>\n",
       "      <td>male</td>\n",
       "      <td>27.0</td>\n",
       "      <td>0</td>\n",
       "      <td>0</td>\n",
       "      <td>315154</td>\n",
       "      <td>8.6625</td>\n",
       "      <td>NaN</td>\n",
       "      <td>S</td>\n",
       "    </tr>\n",
       "    <tr>\n",
       "      <th>4</th>\n",
       "      <td>896</td>\n",
       "      <td>3</td>\n",
       "      <td>Hirvonen, Mrs. Alexander (Helga E Lindqvist)</td>\n",
       "      <td>female</td>\n",
       "      <td>22.0</td>\n",
       "      <td>1</td>\n",
       "      <td>1</td>\n",
       "      <td>3101298</td>\n",
       "      <td>12.2875</td>\n",
       "      <td>NaN</td>\n",
       "      <td>S</td>\n",
       "    </tr>\n",
       "  </tbody>\n",
       "</table>\n",
       "</div>"
      ],
      "text/plain": [
       "   PassengerId  Pclass                                          Name     Sex  \\\n",
       "0          892       3                              Kelly, Mr. James    male   \n",
       "1          893       3              Wilkes, Mrs. James (Ellen Needs)  female   \n",
       "2          894       2                     Myles, Mr. Thomas Francis    male   \n",
       "3          895       3                              Wirz, Mr. Albert    male   \n",
       "4          896       3  Hirvonen, Mrs. Alexander (Helga E Lindqvist)  female   \n",
       "\n",
       "    Age  SibSp  Parch   Ticket     Fare Cabin Embarked  \n",
       "0  34.5      0      0   330911   7.8292   NaN        Q  \n",
       "1  47.0      1      0   363272   7.0000   NaN        S  \n",
       "2  62.0      0      0   240276   9.6875   NaN        Q  \n",
       "3  27.0      0      0   315154   8.6625   NaN        S  \n",
       "4  22.0      1      1  3101298  12.2875   NaN        S  "
      ]
     },
     "execution_count": 3,
     "metadata": {},
     "output_type": "execute_result"
    }
   ],
   "source": [
    "test_data = pd.read_csv(\"/kaggle/input/titanic/test.csv\")\n",
    "test_data.head()"
   ]
  },
  {
   "cell_type": "markdown",
   "id": "f326a493",
   "metadata": {
    "papermill": {
     "duration": 0.002593,
     "end_time": "2025-03-31T02:55:57.084355",
     "exception": false,
     "start_time": "2025-03-31T02:55:57.081762",
     "status": "completed"
    },
    "tags": []
   },
   "source": [
    "## Naive logistical regression\n",
    "\n",
    "For my first attempt I will try to use a pretty simple logistical regression model."
   ]
  },
  {
   "cell_type": "markdown",
   "id": "346c6010",
   "metadata": {
    "papermill": {
     "duration": 0.002517,
     "end_time": "2025-03-31T02:55:57.089637",
     "exception": false,
     "start_time": "2025-03-31T02:55:57.087120",
     "status": "completed"
    },
    "tags": []
   },
   "source": [
    "### Variable descriptions and analysis"
   ]
  },
  {
   "cell_type": "markdown",
   "id": "54bd49fc",
   "metadata": {
    "papermill": {
     "duration": 0.002489,
     "end_time": "2025-03-31T02:55:57.094837",
     "exception": false,
     "start_time": "2025-03-31T02:55:57.092348",
     "status": "completed"
    },
    "tags": []
   },
   "source": [
    "passengerId: A unique ID for identifying each passenger\n",
    "\n",
    "survival: Describes whether the passenger survived the wreck. Values are 0 for no, 1 for yes\n",
    "\n",
    "pclass:\tThe passenger ticket class.\t1 = 1st, 2 = 2nd, 3 = 3rd\n",
    "\n",
    "sex: Sex of the passenger.\n",
    "\n",
    "Age: Age of the passenger in years.\t\n",
    "\n",
    "sibsp: The number of siblings / spouses aboard the Titanic.\t\n",
    "\n",
    "parch: The number of parents / children aboard the Titanic.\t\n",
    "\n",
    "ticket: The ticket number of the passenger.\t\n",
    "\n",
    "fare: The fare paid by the passenger.\t\n",
    "\n",
    "cabin: The cabin number of the passenger.\t\n",
    "\n",
    "embarked: The port where the passenger boarded the \tPort of Embarkation\tC = Cherbourg, Q = Queenstown, S = Southampton"
   ]
  },
  {
   "cell_type": "markdown",
   "id": "9d0ad605",
   "metadata": {
    "papermill": {
     "duration": 0.002626,
     "end_time": "2025-03-31T02:55:57.100073",
     "exception": false,
     "start_time": "2025-03-31T02:55:57.097447",
     "status": "completed"
    },
    "tags": []
   },
   "source": [
    "First, let's look at basic info about the training and test sets."
   ]
  },
  {
   "cell_type": "code",
   "execution_count": 4,
   "id": "9d69ce3d",
   "metadata": {
    "execution": {
     "iopub.execute_input": "2025-03-31T02:55:57.106608Z",
     "iopub.status.busy": "2025-03-31T02:55:57.106256Z",
     "iopub.status.idle": "2025-03-31T02:55:57.144040Z",
     "shell.execute_reply": "2025-03-31T02:55:57.142629Z"
    },
    "papermill": {
     "duration": 0.042561,
     "end_time": "2025-03-31T02:55:57.145314",
     "exception": false,
     "start_time": "2025-03-31T02:55:57.102753",
     "status": "completed"
    },
    "tags": []
   },
   "outputs": [
    {
     "name": "stdout",
     "output_type": "stream",
     "text": [
      "       PassengerId    Survived      Pclass         Age       SibSp  \\\n",
      "count   891.000000  891.000000  891.000000  714.000000  891.000000   \n",
      "mean    446.000000    0.383838    2.308642   29.699118    0.523008   \n",
      "std     257.353842    0.486592    0.836071   14.526497    1.102743   \n",
      "min       1.000000    0.000000    1.000000    0.420000    0.000000   \n",
      "25%     223.500000    0.000000    2.000000   20.125000    0.000000   \n",
      "50%     446.000000    0.000000    3.000000   28.000000    0.000000   \n",
      "75%     668.500000    1.000000    3.000000   38.000000    1.000000   \n",
      "max     891.000000    1.000000    3.000000   80.000000    8.000000   \n",
      "\n",
      "            Parch        Fare  \n",
      "count  891.000000  891.000000  \n",
      "mean     0.381594   32.204208  \n",
      "std      0.806057   49.693429  \n",
      "min      0.000000    0.000000  \n",
      "25%      0.000000    7.910400  \n",
      "50%      0.000000   14.454200  \n",
      "75%      0.000000   31.000000  \n",
      "max      6.000000  512.329200  \n",
      "<class 'pandas.core.frame.DataFrame'>\n",
      "RangeIndex: 891 entries, 0 to 890\n",
      "Data columns (total 12 columns):\n",
      " #   Column       Non-Null Count  Dtype  \n",
      "---  ------       --------------  -----  \n",
      " 0   PassengerId  891 non-null    int64  \n",
      " 1   Survived     891 non-null    int64  \n",
      " 2   Pclass       891 non-null    int64  \n",
      " 3   Name         891 non-null    object \n",
      " 4   Sex          891 non-null    object \n",
      " 5   Age          714 non-null    float64\n",
      " 6   SibSp        891 non-null    int64  \n",
      " 7   Parch        891 non-null    int64  \n",
      " 8   Ticket       891 non-null    object \n",
      " 9   Fare         891 non-null    float64\n",
      " 10  Cabin        204 non-null    object \n",
      " 11  Embarked     889 non-null    object \n",
      "dtypes: float64(2), int64(5), object(5)\n",
      "memory usage: 83.7+ KB\n",
      "None\n"
     ]
    }
   ],
   "source": [
    "print(train_data.describe())\n",
    "print(train_data.info())"
   ]
  },
  {
   "cell_type": "markdown",
   "id": "e1e43fbc",
   "metadata": {
    "papermill": {
     "duration": 0.002793,
     "end_time": "2025-03-31T02:55:57.151543",
     "exception": false,
     "start_time": "2025-03-31T02:55:57.148750",
     "status": "completed"
    },
    "tags": []
   },
   "source": [
    "We can see that approximately 38% of the passengers in the training set survived. Another observation is that the min fare is zero, which may indicate missing fare data for some passengers, or that these are a separate class of passengers, either people who were given free passage or crew. It may be worth looking at them separately. There are also null values for Age, Embarked, and Cabin that we will have to deal with. Let's look at the test data to see if it has similar properties. Since it is unlikely that the embarkation location affects survival, we will not include it in this model. However, the cabin tells us where the passenger would be located, therefore we want to fill this in with a reasonable value. We will replace the NaN values with \"X\", and categorize the rest by the first letter, grouping them presumably by deck. Age will be replaced with the average age of the data set.\n",
    "\n",
    "Additionally, we are only going to use Pclass, Sex, Age, SibSp, Parch, Fare, and Cabin features. These can all easily be converted into numerical values."
   ]
  },
  {
   "cell_type": "code",
   "execution_count": 5,
   "id": "49ce265f",
   "metadata": {
    "execution": {
     "iopub.execute_input": "2025-03-31T02:55:57.158645Z",
     "iopub.status.busy": "2025-03-31T02:55:57.158308Z",
     "iopub.status.idle": "2025-03-31T02:55:57.173803Z",
     "shell.execute_reply": "2025-03-31T02:55:57.172981Z"
    },
    "papermill": {
     "duration": 0.020466,
     "end_time": "2025-03-31T02:55:57.175062",
     "exception": false,
     "start_time": "2025-03-31T02:55:57.154596",
     "status": "completed"
    },
    "tags": []
   },
   "outputs": [],
   "source": [
    "# Preprocess data set to fix NaN values for Age, Cabin, and Embarked.\n",
    "# Drop the Embarked column\n",
    "clean_train_data = train_data.drop(\"Embarked\", axis = \"columns\", inplace = False)\n",
    "\n",
    "# Replace NaN Cabins with \"None\"\n",
    "# Replace each non-NaN value with the first character, the letter\n",
    "clean_train_data.fillna({\"Cabin\":\"X\"}, inplace = True)\n",
    "clean_train_data[\"Cabin\"] = clean_train_data[\"Cabin\"].str.get(0)\n",
    "\n",
    "# Replace NaN with average of Age\n",
    "mean = clean_train_data[\"Age\"].mean()\n",
    "clean_train_data.fillna({\"Age\": mean}, inplace = True)\n",
    "\n",
    "# Convert text/bool to numerical\n",
    "# First delete PassengerId and Name\n",
    "clean_train_data.drop(\"PassengerId\", axis = \"columns\", inplace = True)\n",
    "clean_train_data.drop(\"Name\", axis = \"columns\", inplace = True)\n",
    "clean_train_data.drop(\"Ticket\", axis = \"columns\", inplace = True)\n",
    "\n",
    "# Now use get_dummies to get numerical values\n",
    "clean_train_data = pd.get_dummies(clean_train_data)"
   ]
  },
  {
   "cell_type": "code",
   "execution_count": 6,
   "id": "c9690b39",
   "metadata": {
    "execution": {
     "iopub.execute_input": "2025-03-31T02:55:57.182235Z",
     "iopub.status.busy": "2025-03-31T02:55:57.181929Z",
     "iopub.status.idle": "2025-03-31T02:55:57.201959Z",
     "shell.execute_reply": "2025-03-31T02:55:57.200812Z"
    },
    "papermill": {
     "duration": 0.025003,
     "end_time": "2025-03-31T02:55:57.203366",
     "exception": false,
     "start_time": "2025-03-31T02:55:57.178363",
     "status": "completed"
    },
    "tags": []
   },
   "outputs": [
    {
     "name": "stdout",
     "output_type": "stream",
     "text": [
      "       PassengerId      Pclass         Age       SibSp       Parch        Fare\n",
      "count   418.000000  418.000000  332.000000  418.000000  418.000000  417.000000\n",
      "mean   1100.500000    2.265550   30.272590    0.447368    0.392344   35.627188\n",
      "std     120.810458    0.841838   14.181209    0.896760    0.981429   55.907576\n",
      "min     892.000000    1.000000    0.170000    0.000000    0.000000    0.000000\n",
      "25%     996.250000    1.000000   21.000000    0.000000    0.000000    7.895800\n",
      "50%    1100.500000    3.000000   27.000000    0.000000    0.000000   14.454200\n",
      "75%    1204.750000    3.000000   39.000000    1.000000    0.000000   31.500000\n",
      "max    1309.000000    3.000000   76.000000    8.000000    9.000000  512.329200\n",
      "<class 'pandas.core.frame.DataFrame'>\n",
      "RangeIndex: 418 entries, 0 to 417\n",
      "Data columns (total 11 columns):\n",
      " #   Column       Non-Null Count  Dtype  \n",
      "---  ------       --------------  -----  \n",
      " 0   PassengerId  418 non-null    int64  \n",
      " 1   Pclass       418 non-null    int64  \n",
      " 2   Name         418 non-null    object \n",
      " 3   Sex          418 non-null    object \n",
      " 4   Age          332 non-null    float64\n",
      " 5   SibSp        418 non-null    int64  \n",
      " 6   Parch        418 non-null    int64  \n",
      " 7   Ticket       418 non-null    object \n",
      " 8   Fare         417 non-null    float64\n",
      " 9   Cabin        91 non-null     object \n",
      " 10  Embarked     418 non-null    object \n",
      "dtypes: float64(2), int64(4), object(5)\n",
      "memory usage: 36.0+ KB\n",
      "None\n"
     ]
    }
   ],
   "source": [
    "print(test_data.describe())\n",
    "print(test_data.info())"
   ]
  },
  {
   "cell_type": "markdown",
   "id": "330c179f",
   "metadata": {
    "papermill": {
     "duration": 0.002811,
     "end_time": "2025-03-31T02:55:57.209782",
     "exception": false,
     "start_time": "2025-03-31T02:55:57.206971",
     "status": "completed"
    },
    "tags": []
   },
   "source": [
    "We can see there is also missing data in the training data set. In this case, Fare, Age, and Cabin are missing values. We will do a similar procedue, replacing fare with the average. Age and Cabin will be treated the same as above."
   ]
  },
  {
   "cell_type": "code",
   "execution_count": 7,
   "id": "46026063",
   "metadata": {
    "execution": {
     "iopub.execute_input": "2025-03-31T02:55:57.217232Z",
     "iopub.status.busy": "2025-03-31T02:55:57.216914Z",
     "iopub.status.idle": "2025-03-31T02:55:57.230717Z",
     "shell.execute_reply": "2025-03-31T02:55:57.229577Z"
    },
    "papermill": {
     "duration": 0.019341,
     "end_time": "2025-03-31T02:55:57.232307",
     "exception": false,
     "start_time": "2025-03-31T02:55:57.212966",
     "status": "completed"
    },
    "tags": []
   },
   "outputs": [],
   "source": [
    "# Preprocess data set to fix NaN values for Age, Cabin, and Embarked.\n",
    "# Drop the Embarked column\n",
    "clean_test_data = test_data.drop(\"Embarked\", axis = \"columns\", inplace = False)\n",
    "\n",
    "# Replace NaN Cabins with \"None\"\n",
    "# Replace each non-NaN value with the first character, the letter\n",
    "clean_test_data = clean_test_data.fillna({\"Cabin\":\"X\"})\n",
    "clean_test_data[\"Cabin\"] = clean_test_data[\"Cabin\"].str.get(0)\n",
    "\n",
    "# Replace NaN with average of Age\n",
    "mean_age = clean_test_data[\"Age\"].mean()\n",
    "clean_test_data.fillna({\"Age\": mean_age}, inplace = True)\n",
    "\n",
    "#Replace NaN with average of Fare\n",
    "mean_fare = clean_test_data[\"Fare\"].mean()\n",
    "clean_test_data.fillna({\"Fare\" : mean_fare}, inplace = True)\n",
    "\n",
    "# Convert text/bool to numerical\n",
    "# First delete PassengerId and Name\n",
    "clean_test_data.drop(\"PassengerId\", axis = \"columns\", inplace = True)\n",
    "clean_test_data.drop(\"Name\", axis = \"columns\", inplace = True)\n",
    "clean_test_data.drop(\"Ticket\", axis = \"columns\", inplace = True)\n",
    "\n",
    "# Now use get_dummies to get numerical values\n",
    "clean_test_data = pd.get_dummies(clean_test_data)\n",
    "\n",
    "# The data is missing Cabin_T, need to add it and will fill with False values\n",
    "clean_test_data[\"Cabin_T\"] = False\n",
    "\n",
    "# Swap order of last two columns\n",
    "col = clean_test_data.pop(\"Cabin_X\")\n",
    "clean_test_data[\"Cabin_X\"] = col\n",
    "#data.insert(1, col.name, col)"
   ]
  },
  {
   "cell_type": "markdown",
   "id": "6226e434",
   "metadata": {
    "papermill": {
     "duration": 0.002761,
     "end_time": "2025-03-31T02:55:57.238526",
     "exception": false,
     "start_time": "2025-03-31T02:55:57.235765",
     "status": "completed"
    },
    "tags": []
   },
   "source": [
    "Now we are ready to train the Logistic Regression model."
   ]
  },
  {
   "cell_type": "code",
   "execution_count": 8,
   "id": "5b00f781",
   "metadata": {
    "execution": {
     "iopub.execute_input": "2025-03-31T02:55:57.245457Z",
     "iopub.status.busy": "2025-03-31T02:55:57.245152Z",
     "iopub.status.idle": "2025-03-31T02:55:57.338692Z",
     "shell.execute_reply": "2025-03-31T02:55:57.337320Z"
    },
    "papermill": {
     "duration": 0.098724,
     "end_time": "2025-03-31T02:55:57.340117",
     "exception": false,
     "start_time": "2025-03-31T02:55:57.241393",
     "status": "completed"
    },
    "tags": []
   },
   "outputs": [],
   "source": [
    "xtrain = clean_train_data.drop(\"Survived\", axis = \"columns\", inplace = False)\n",
    "ytrain = clean_train_data[\"Survived\"]\n",
    "model = LogisticRegression(random_state = 0, max_iter = 1000)\n",
    "model.fit(xtrain, ytrain)\n",
    "\n",
    "xtest = clean_test_data\n",
    "\n",
    "# Create the output DataFrame\n",
    "submission = pd.DataFrame({\n",
    "        \"PassengerId\": test_data[\"PassengerId\"],\n",
    "        \"Survived\": model.predict(xtest)})\n",
    "submission.to_csv(\"submission.csv\", index = False)"
   ]
  }
 ],
 "metadata": {
  "kaggle": {
   "accelerator": "none",
   "dataSources": [
    {
     "databundleVersionId": 26502,
     "sourceId": 3136,
     "sourceType": "competition"
    }
   ],
   "dockerImageVersionId": 30918,
   "isGpuEnabled": false,
   "isInternetEnabled": true,
   "language": "python",
   "sourceType": "notebook"
  },
  "kernelspec": {
   "display_name": "Python 3",
   "language": "python",
   "name": "python3"
  },
  "language_info": {
   "codemirror_mode": {
    "name": "ipython",
    "version": 3
   },
   "file_extension": ".py",
   "mimetype": "text/x-python",
   "name": "python",
   "nbconvert_exporter": "python",
   "pygments_lexer": "ipython3",
   "version": "3.10.12"
  },
  "papermill": {
   "default_parameters": {},
   "duration": 5.149756,
   "end_time": "2025-03-31T02:55:57.963880",
   "environment_variables": {},
   "exception": null,
   "input_path": "__notebook__.ipynb",
   "output_path": "__notebook__.ipynb",
   "parameters": {},
   "start_time": "2025-03-31T02:55:52.814124",
   "version": "2.6.0"
  }
 },
 "nbformat": 4,
 "nbformat_minor": 5
}
